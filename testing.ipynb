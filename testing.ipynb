{
 "cells": [
  {
   "cell_type": "markdown",
   "metadata": {},
   "source": [
    "# iPhone Health Data: XML to CSV"
   ]
  },
  {
   "cell_type": "markdown",
   "metadata": {},
   "source": [
    "### Imports"
   ]
  },
  {
   "cell_type": "code",
   "execution_count": 3,
   "metadata": {},
   "outputs": [],
   "source": [
    "import xml.etree.ElementTree as ET\n",
    "import pandas as pd\n"
   ]
  },
  {
   "cell_type": "markdown",
   "metadata": {},
   "source": [
    "## Easy Transfer XML -> Pandas DF -> CSV\n",
    "\n",
    "- larger files will take longer, but Pandas makes column sorting easier\n",
    "- 1 GB ~ 1 min"
   ]
  },
  {
   "cell_type": "code",
   "execution_count": 4,
   "metadata": {},
   "outputs": [],
   "source": [
    "with open('data/export.xml') as f:\n",
    "    data = ET.parse(f)\n",
    "    root = data.getroot()\n",
    "    records_df = pd.DataFrame([{**{'tag': child.tag}, **child.attrib} for child in root[2:]])\n",
    "    # records_df.to_csv('data/health_data.csv', index=False)"
   ]
  },
  {
   "cell_type": "markdown",
   "metadata": {},
   "source": [
    "## Separate CSV just for workout data"
   ]
  },
  {
   "cell_type": "code",
   "execution_count": null,
   "metadata": {},
   "outputs": [],
   "source": [
    "workout_cols = ['workoutActivityType', 'startDate', 'endDate', 'duration', 'durationUnit',\n",
    "                'device', 'sourceName', 'sourceVersion', 'creationDate']\n",
    "\n",
    "workout_df = records_df[records_df['tag'] == 'Workout'][workout_cols].reset_index(drop=True)\n",
    "workout_df.to_csv('data/workouts.csv', index=False)"
   ]
  },
  {
   "cell_type": "markdown",
   "metadata": {},
   "source": [
    "## Separate CSV just for activity data"
   ]
  },
  {
   "cell_type": "code",
   "execution_count": 15,
   "metadata": {},
   "outputs": [],
   "source": [
    "activity_df = records_df[records_df['tag'] == 'ActivitySummary'].loc[:, 'dateComponents':].reset_index(drop=True)\n",
    "activity_df.to_csv('data/activity.csv', index=False)"
   ]
  },
  {
   "cell_type": "code",
   "execution_count": null,
   "metadata": {},
   "outputs": [],
   "source": []
  }
 ],
 "metadata": {
  "kernelspec": {
   "display_name": "twelve",
   "language": "python",
   "name": "python3"
  },
  "language_info": {
   "codemirror_mode": {
    "name": "ipython",
    "version": 3
   },
   "file_extension": ".py",
   "mimetype": "text/x-python",
   "name": "python",
   "nbconvert_exporter": "python",
   "pygments_lexer": "ipython3",
   "version": "3.12.8"
  }
 },
 "nbformat": 4,
 "nbformat_minor": 2
}
