{
 "cells": [
  {
   "cell_type": "markdown",
   "metadata": {},
   "source": [
    "# iPhone Health Data: XLM to CSV"
   ]
  },
  {
   "cell_type": "code",
   "execution_count": 117,
   "metadata": {},
   "outputs": [],
   "source": [
    "import xml.etree.ElementTree as ET\n",
    "import pandas as pd\n"
   ]
  },
  {
   "cell_type": "code",
   "execution_count": null,
   "metadata": {},
   "outputs": [],
   "source": [
    "with open('data/export.xml') as f:\n",
    "    data = ET.parse(f)\n",
    "    root = data.getroot()\n",
    "    records_df = pd.DataFrame([{**{'tag': child.tag}, **child.attrib} for child in root[2:]])\n",
    "    records_df.to_csv('data/health_data.csv', index=False)"
   ]
  },
  {
   "cell_type": "code",
   "execution_count": null,
   "metadata": {},
   "outputs": [],
   "source": [
    "workout_cols = ['workoutActivityType', 'startDate', 'endDate', 'duration', 'durationUnit',\n",
    "                'device', 'sourceName', 'sourceVersion', 'creationDate']\n",
    "\n",
    "workout_df = records_df[records_df['tag'] == 'Workout'][workout_cols].reset_index(drop=True)\n",
    "workout_df.to_csv('data/workouts.csv', index=False)"
   ]
  },
  {
   "cell_type": "code",
   "execution_count": null,
   "metadata": {},
   "outputs": [],
   "source": []
  }
 ],
 "metadata": {
  "kernelspec": {
   "display_name": "twelve",
   "language": "python",
   "name": "python3"
  },
  "language_info": {
   "codemirror_mode": {
    "name": "ipython",
    "version": 3
   },
   "file_extension": ".py",
   "mimetype": "text/x-python",
   "name": "python",
   "nbconvert_exporter": "python",
   "pygments_lexer": "ipython3",
   "version": "3.12.8"
  }
 },
 "nbformat": 4,
 "nbformat_minor": 2
}
