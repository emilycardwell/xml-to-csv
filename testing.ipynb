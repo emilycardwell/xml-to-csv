{
 "cells": [
  {
   "cell_type": "markdown",
   "metadata": {},
   "source": [
    "# iPhone Health Data: XML to CSV"
   ]
  },
  {
   "cell_type": "markdown",
   "metadata": {},
   "source": [
    "### Imports"
   ]
  },
  {
   "cell_type": "code",
   "execution_count": 2,
   "metadata": {},
   "outputs": [],
   "source": [
    "import xml.etree.ElementTree as ET\n",
    "import pandas as pd\n"
   ]
  },
  {
   "cell_type": "markdown",
   "metadata": {},
   "source": [
    "## Easy Transfer XML -> Pandas DF -> CSV\n",
    "\n",
    "- larger files will take longer, but Pandas makes column sorting easier\n",
    "- 1 GB ~ 1 min"
   ]
  },
  {
   "cell_type": "code",
   "execution_count": 4,
   "metadata": {},
   "outputs": [],
   "source": [
    "with open('data/export.xml') as f:\n",
    "    data = ET.parse(f)\n",
    "    root = data.getroot()\n",
    "    records_df = pd.DataFrame([{**{'tag': child.tag}, **child.attrib} for child in root[2:]])\n",
    "    # records_df.to_csv('data/health_data.csv', index=False)"
   ]
  },
  {
   "cell_type": "markdown",
   "metadata": {},
   "source": [
    "## Separate CSV just for workout data"
   ]
  },
  {
   "cell_type": "code",
   "execution_count": null,
   "metadata": {},
   "outputs": [],
   "source": [
    "workout_cols = ['workoutActivityType', 'startDate', 'endDate', 'duration', 'durationUnit',\n",
    "                'device', 'sourceName', 'sourceVersion', 'creationDate']\n",
    "\n",
    "workout_df = records_df[records_df['tag'] == 'Workout'][workout_cols].reset_index(drop=True)\n",
    "workout_df.to_csv('data/workouts.csv', index=False)"
   ]
  },
  {
   "cell_type": "markdown",
   "metadata": {},
   "source": [
    "## Separate CSV just for activity data"
   ]
  },
  {
   "cell_type": "code",
   "execution_count": 15,
   "metadata": {},
   "outputs": [],
   "source": [
    "activity_df = records_df[records_df['tag'] == 'ActivitySummary'].loc[:, 'dateComponents':].reset_index(drop=True)\n",
    "activity_df.to_csv('data/activity.csv', index=False)"
   ]
  },
  {
   "cell_type": "markdown",
   "metadata": {},
   "source": [
    "---\n",
    "\n",
    "# Read & Explore Data from CSV"
   ]
  },
  {
   "cell_type": "code",
   "execution_count": null,
   "metadata": {},
   "outputs": [],
   "source": [
    "all_health_df = pd.read_csv('data/health_data.csv')\n"
   ]
  },
  {
   "cell_type": "code",
   "execution_count": 12,
   "metadata": {},
   "outputs": [
    {
     "data": {
      "text/plain": [
       "type\n",
       "HKQuantityTypeIdentifierActiveEnergyBurned        879244\n",
       "HKQuantityTypeIdentifierHeartRate                 517280\n",
       "HKQuantityTypeIdentifierBasalEnergyBurned         353209\n",
       "HKQuantityTypeIdentifierDistanceWalkingRunning    191020\n",
       "HKQuantityTypeIdentifierStepCount                 135602\n",
       "Name: count, dtype: int64"
      ]
     },
     "execution_count": 12,
     "metadata": {},
     "output_type": "execute_result"
    }
   ],
   "source": [
    "all_health_df.type.value_counts().head()"
   ]
  },
  {
   "cell_type": "code",
   "execution_count": 14,
   "metadata": {},
   "outputs": [],
   "source": [
    "selected_types = ['HKQuantityTypeIdentifierActiveEnergyBurned',\n",
    "                  'HKQuantityTypeIdentifierBasalEnergyBurned',\n",
    "                  'HKQuantityTypeIdentifierDistanceWalkingRunning',\n",
    "                  'HKQuantityTypeIdentifierFlightsClimbed']\n",
    "\n",
    "selected_columns = ['type', 'value', 'unit', 'startDate', 'endDate']\n",
    "\n",
    "selected_df = all_health_df[all_health_df['type'].isin(selected_types)].loc[:, :'device'][selected_columns]\n",
    "selected_df.to_csv('data/selected_health_data.csv', index=False)"
   ]
  },
  {
   "cell_type": "code",
   "execution_count": null,
   "metadata": {},
   "outputs": [],
   "source": []
  }
 ],
 "metadata": {
  "kernelspec": {
   "display_name": "twelve",
   "language": "python",
   "name": "python3"
  },
  "language_info": {
   "codemirror_mode": {
    "name": "ipython",
    "version": 3
   },
   "file_extension": ".py",
   "mimetype": "text/x-python",
   "name": "python",
   "nbconvert_exporter": "python",
   "pygments_lexer": "ipython3",
   "version": "3.12.8"
  }
 },
 "nbformat": 4,
 "nbformat_minor": 2
}
