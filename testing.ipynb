{
 "cells": [
  {
   "cell_type": "code",
   "execution_count": null,
   "metadata": {},
   "outputs": [
    {
     "name": "stdout",
     "output_type": "stream",
     "text": [
      "parsing xml...\n",
      "writing to csv...\n",
      "done!\n"
     ]
    }
   ],
   "source": [
    "import xml.etree.ElementTree as ET\n",
    "import pandas as pd\n",
    "\n",
    "r_select = 0\n",
    "while r_select not in range(1,4):\n",
    "    r_select = int(input('Which data do you want to save: all (1), records (2), \\\n",
    "workouts (3), activity (3) [2 recommended]  '))\n",
    "\n",
    "print('parsing xml...')\n",
    "with open('data/test_data.xml') as f:\n",
    "    data = ET.parse(f)\n",
    "    root = data.getroot()\n",
    "\n",
    "print('writing to csv...')\n",
    "if r_select == 1:\n",
    "    health_df = pd.DataFrame([{**{'tag': child.tag}, **child.attrib} for child in root])\n",
    "    health_df.to_csv('data/test_out.csv', index=False)\n",
    "    print('done!')\n",
    "if r_select == 2:\n",
    "    r_tag = 'Record'\n",
    "elif r_select == 3:\n",
    "    r_tag = 'Workout'\n",
    "elif r_select == 4:\n",
    "    r_tag = 'ActivitySummary'\n",
    "\n",
    "selected_df = pd.DataFrame([{**{'tag': child.tag}, **child.attrib} for child in root if child.tag == r_tag])\n",
    "selected_df = selected_df.drop(columns=['tag'])\n",
    "selected_df.to_csv('data/test_out.csv', index=False)\n",
    "print('done!')"
   ]
  },
  {
   "cell_type": "code",
   "execution_count": null,
   "metadata": {},
   "outputs": [
    {
     "name": "stdout",
     "output_type": "stream",
     "text": [
      "converting...\n",
      "done!\n"
     ]
    }
   ],
   "source": [
    "import xml.etree.ElementTree as ET\n",
    "import csv\n",
    "\n",
    "columns = ['type', 'startDate', 'endDate', 'value', 'unit']\n",
    "default_types = {\n",
    "        'HKQuantityTypeIdentifierDistanceWalkingRunning',\n",
    "        }\n",
    "\n",
    "r_select = 0\n",
    "while r_select not in [1, 2]:\n",
    "    r_select = int(input('Do you want all records (1) or default records (2)?' ))\n",
    "\n",
    "print('converting...')\n",
    "with open('data/test_data.xml', 'r') as xmlf, open('data/test_out.csv', 'w') as csvf:\n",
    "    writer = csv.DictWriter(csvf, fieldnames=columns, extrasaction='ignore')\n",
    "\n",
    "    if r_select == 1:\n",
    "        for _, elem in ET.iterparse(xmlf, events=('start',)):\n",
    "            if elem.tag == 'Record':\n",
    "                writer.writerow(elem.attrib)\n",
    "            elem.clear()\n",
    "\n",
    "    elif r_select == 2:\n",
    "        for _, elem in ET.iterparse(xmlf, events=('start',)):\n",
    "            rec_dict = elem.attrib\n",
    "            if rec_dict.get('type') in default_types:\n",
    "                writer.writerow(rec_dict)\n",
    "            elem.clear()\n",
    "\n",
    "    print('done!')"
   ]
  },
  {
   "cell_type": "code",
   "execution_count": 29,
   "metadata": {},
   "outputs": [
    {
     "name": "stdout",
     "output_type": "stream",
     "text": [
      "converting...\n",
      "done!\n"
     ]
    }
   ],
   "source": [
    "import xml.etree.ElementTree as ET\n",
    "import csv\n",
    "\n",
    "with open('data/test_data.xml', 'r') as xmlf, open('data/test_out.csv', 'w') as csvf:\n",
    "    writer = csv.DictWriter(csvf, fieldnames=columns, extrasaction='ignore')\n",
    "    prev_tags = set([])\n",
    "\n",
    "    print('converting...')\n",
    "    for _, elem in ET.iterparse(xmlf, events=('start',)):\n",
    "        if elem.tag == 'Record':\n",
    "            rec_dict = elem.attrib\n",
    "            rec_type = rec_dict.get('type')\n",
    "            if rec_type in prev_tags:\n",
    "                writer.writerow(rec_dict)\n",
    "            else:\n",
    "                decision = ''\n",
    "                while decision not in ['y', 'n']:\n",
    "                    decision = input(f\"Record type: {rec_type} (y/n)    \")\n",
    "                if decision == 'y':\n",
    "                    writer.writerow(rec_dict)\n",
    "                prev_tags.add(rec_type)\n",
    "        elem.clear()\n",
    "\n",
    "    print('done!')"
   ]
  },
  {
   "cell_type": "code",
   "execution_count": null,
   "metadata": {},
   "outputs": [],
   "source": []
  }
 ],
 "metadata": {
  "kernelspec": {
   "display_name": "twelve",
   "language": "python",
   "name": "python3"
  },
  "language_info": {
   "codemirror_mode": {
    "name": "ipython",
    "version": 3
   },
   "file_extension": ".py",
   "mimetype": "text/x-python",
   "name": "python",
   "nbconvert_exporter": "python",
   "pygments_lexer": "ipython3",
   "version": "3.12.8"
  }
 },
 "nbformat": 4,
 "nbformat_minor": 2
}
